{
 "cells": [
  {
   "cell_type": "markdown",
   "metadata": {},
   "source": [
    "# Analyzing Ptychography data using pycroscopy\n",
    "### Stephen Jesse, Suhas Somnath, and Chris R. Smith, \n",
    "The Center for Nanophase Materials Science and The Institute for Functional Imaging for Materials <br>\n",
    "Oak Ridge National Laboratory<br>\n",
    "1/19/2017\n",
    "\n",
    "Here, we will be working with ptychography datasets acquired using a scanning transmission electron microscope (STEM). These ptychography datsets have four dimensions - two (x, y) dimensions from the position of the electron beam and each spatial pixel contains a two dimensional (u, v) image, called a ronchigram, recorded by the detector. Though the ronchigrams are typically averaged to two values (bright field, dark field), retaining the raw ronchigrams enables deeper investigation of data to reveal the existence of different phases in the material and other patterns that would not be visible in the averaged data"
   ]
  },
  {
   "cell_type": "markdown",
   "metadata": {},
   "source": [
    "## Configure the notebook first"
   ]
  },
  {
   "cell_type": "code",
   "execution_count": null,
   "metadata": {},
   "outputs": [],
   "source": [
    "!pip install -U pycroscopy scipy numpy matplotlib h5py\n",
    "\n",
    "# Ensure python 3 compatibility\n",
    "from __future__ import division, print_function, absolute_import\n",
    "\n",
    "# Import necessary libraries:\n",
    "import h5py\n",
    "import numpy as np\n",
    "import matplotlib.pyplot as plt\n",
    "import matplotlib.patches as patches\n",
    "from IPython.display import display, HTML\n",
    "import ipywidgets as widgets\n",
    "import pycroscopy as px\n",
    "\n",
    "# set up notebook to show plots within the notebook\n",
    "% matplotlib notebook\n",
    "\n",
    "# Make Notebook take up most of page width\n",
    "display(HTML(data=\"\"\"\n",
    "<style>\n",
    "    div#notebook-container    { width: 95%; }\n",
    "    div#menubar-container     { width: 65%; }\n",
    "    div#maintoolbar-container { width: 99%; }\n",
    "</style>\n",
    "\"\"\"))"
   ]
  },
  {
   "cell_type": "markdown",
   "metadata": {},
   "source": [
    "## Load pycroscopy compatible ptychography dataset\n",
    "\n",
    "For simplicity we will use a dataset that has already been transalated form its original data format into a pycroscopy compatible hierarchical data format (HDF5 or H5) file\n",
    "\n",
    "#### H5 files:\n",
    "* are like smart containers that can store matrices with data, folders to organize these datasets, images, metadata like experimental parameters, links or shortcuts to datasets, etc.\n",
    "* are readily compatible with high-performance computing facilities\n",
    "* scale very efficiently from few kilobytes to several terabytes\n",
    "* can be read and modified using any language including Python, Matlab, C/C++, Java, Fortran, Igor Pro, etc."
   ]
  },
  {
   "cell_type": "code",
   "execution_count": null,
   "metadata": {},
   "outputs": [],
   "source": [
    "# Select a file to work on:\n",
    "# h5_path = px.io_utils.uiGetFile('*.h5', 'pycroscopy formatted Ptychography dataset')\n",
    "h5_path = \"/home/challtdow/workspace/pycroscopy_data/Raw_Data/20120212_21_GB/20120212_21_GB.h5\"\n",
    "print('Working on:\\n' + h5_path)\n",
    "# Open the file\n",
    "h5_file = h5py.File(h5_path, mode='r+')"
   ]
  },
  {
   "cell_type": "markdown",
   "metadata": {},
   "source": [
    "## Inspect the contents of this h5 data file\n",
    "The file contents are stored in a tree structure, just like files on a contemporary computer.\n",
    "The data is stored as a 2D matrix (position, spectroscopic value) regardless of the dimensionality of the data.  \n",
    "In the case of these 4D ptychography datasets, the data is stored as a N x P dataset where N is the number of spatial positions of the electron beam and P is the number of pixels in the detector. \n",
    "\n",
    "The main dataset is always accompanied by four ancillary datasets that explain the position and spectroscopic value of any given element in the dataset.\n",
    "In the case of the 2d images, the positions will be arranged as row0-col0, row0-col1.... row0-colN, row1-col0....\n",
    "The spectroscopic information is trivial since the data at any given pixel is just a scalar value"
   ]
  },
  {
   "cell_type": "code",
   "execution_count": null,
   "metadata": {},
   "outputs": [],
   "source": [
    "print('Datasets and datagroups within the file:\\n------------------------------------')\n",
    "px.hdf_utils.print_tree(h5_file)\n",
    " \n",
    "print('\\nThe main dataset:\\n------------------------------------')\n",
    "print(h5_file['/Measurement_000/Channel_000/Raw_Data'])\n",
    "print('\\nThe ancillary datasets:\\n------------------------------------')\n",
    "print(h5_file['/Measurement_000/Channel_000/Position_Indices'])\n",
    "print(h5_file['/Measurement_000/Channel_000/Position_Values'])\n",
    "print(h5_file['/Measurement_000/Channel_000/Spectroscopic_Indices'])\n",
    "print(h5_file['/Measurement_000/Channel_000/Spectroscopic_Values'])\n",
    "\n",
    "print('\\nMetadata or attributes in a datagroup\\n------------------------------------')\n",
    "for key in h5_file['/Measurement_000'].attrs:\n",
    "    print('{} : {}'.format(key, h5_file['/Measurement_000'].attrs[key]))"
   ]
  },
  {
   "cell_type": "markdown",
   "metadata": {},
   "source": [
    "## Read some basic parameters for visualization"
   ]
  },
  {
   "cell_type": "code",
   "execution_count": null,
   "metadata": {},
   "outputs": [],
   "source": [
    "# Select the dataset containing the raw data to start working with:\n",
    "h5_main = px.hdf_utils.getDataSet(h5_file, 'Raw_Data')[-1]\n",
    "\n",
    "# Read some necessary parameters:\n",
    "h5_pos_inds = px.hdf_utils.getAuxData(h5_main, auxDataName=['Position_Indices'])[0]\n",
    "num_rows = len(np.unique(h5_pos_inds[:, 0]))\n",
    "num_cols = len(np.unique(h5_pos_inds[:, 1]))\n",
    "h5_spec_inds = px.hdf_utils.getAuxData(h5_main, auxDataName=['Spectroscopic_Indices'])[0]\n",
    "num_sensor_rows = len(np.unique(h5_spec_inds[0, :]))\n",
    "num_sensor_cols = len(np.unique(h5_spec_inds[1, :]))"
   ]
  },
  {
   "cell_type": "markdown",
   "metadata": {},
   "source": [
    "## Visualize the Raw Ronchigrams"
   ]
  },
  {
   "cell_type": "code",
   "execution_count": null,
   "metadata": {},
   "outputs": [],
   "source": [
    "coarse_row = int(0.5*num_rows)\n",
    "coarse_col = int(0.5*num_cols)\n",
    "coarse_pos = coarse_row * num_rows + coarse_col\n",
    "\n",
    "current_ronch = np.reshape(h5_main[coarse_pos], (num_sensor_rows, num_sensor_cols))\n",
    "\n",
    "fig, axes = plt.subplots(ncols=2, figsize=(14,7))\n",
    "axes[0].hold(True)\n",
    "axes[0].set_title('Mean Response')\n",
    "main_map = axes[0].imshow(np.reshape(h5_main.parent['Spectroscopic_Mean'], (num_rows, num_cols)), \n",
    "                          cmap=px.plot_utils.cmap_jet_white_center(), origin='lower')\n",
    "main_vert_line = axes[0].axvline(x=coarse_col, color='k')\n",
    "main_hor_line = axes[0].axhline(y=coarse_row, color='k')\n",
    "axes[1].set_title('Ronchigram at current pixel')\n",
    "img_zoom = axes[1].imshow(current_ronch,cmap=px.plot_utils.cmap_jet_white_center(), origin='lower')\n",
    "\n",
    "def move_zoom_box(event):\n",
    "    if not main_map.axes.in_axes(event):\n",
    "        return\n",
    "    \n",
    "    coarse_col = int(round(event.xdata))\n",
    "    coarse_row = int(round(event.ydata))\n",
    "    main_vert_line.set_xdata(coarse_col)\n",
    "    main_hor_line.set_ydata(coarse_row)\n",
    "    \n",
    "    coarse_pos = coarse_row * num_rows + coarse_col\n",
    "    current_ronch = np.reshape(h5_main[coarse_pos], (num_sensor_rows, num_sensor_cols))\n",
    "\n",
    "    img_zoom.set_data(current_ronch)\n",
    "    #img_zoom.set_clim(vmax=ronch_max, vmin=ronch_min)\n",
    "    fig.canvas.draw()\n",
    "    \n",
    "\n",
    "cid = main_map.figure.canvas.mpl_connect('button_press_event', move_zoom_box)\n",
    "# widgets.interact(move_zoom_box, coarse_row=(0, num_rows, 1), \n",
    "#                  coarse_col=(0, num_cols, 1));"
   ]
  },
  {
   "cell_type": "markdown",
   "metadata": {},
   "source": [
    "## Performing Singular Value Decompostion (SVD)\n",
    "SVD decomposes data (arranged as position x value) into a sequence of orthogonal components arranged in descending order of variance. The first component contains the most significant trend in the data. The second component contains the next most significant trend orthogonal to all previous components (just the first component). Each component consists of the trend itself (eigenvector), the spatial variaion of this trend (eigenvalues), and the variance (statistical importance) of the component.\n",
    "\n",
    "Here, SVD essentially compares every single ronchigram with every other ronchigram to find statistically significant trends in the dataset. Such correlation would be infeasible if the ronchigrams were averaged to bright-field and dark-field scalar values. "
   ]
  },
  {
   "cell_type": "code",
   "execution_count": null,
   "metadata": {},
   "outputs": [],
   "source": [
    "# First check if SVD was already computed on this dataset:\n",
    "h5_svd_group = px.hdf_utils.findH5group(h5_main, 'SVD')\n",
    "if len(h5_svd_group) == 0:\n",
    "    print('No prior SVD results found - doing SVD now')\n",
    "    h5_svd_group = px.doSVD(h5_main, num_comps=256)\n",
    "else:\n",
    "    print('Taking previous SVD results already present in file')\n",
    "    h5_svd_group = h5_svd_group[-1]\n",
    "    \n",
    "h5_u = h5_svd_group['U']\n",
    "h5_v = h5_svd_group['V']\n",
    "h5_s = h5_svd_group['S']\n",
    "num_comps = 16"
   ]
  },
  {
   "cell_type": "markdown",
   "metadata": {},
   "source": [
    "## Visualize the SVD results\n",
    "\n",
    "##### S (variance):\n",
    "The plot below shows the variance or statistical significance of the SVD components. The first few components contain the most significant information while the last few components mainly contain noise. \n",
    "\n",
    "Note also that the plot below is a log-log plot. The importance of each subsequent component drops exponentially."
   ]
  },
  {
   "cell_type": "code",
   "execution_count": null,
   "metadata": {},
   "outputs": [],
   "source": [
    "# Visualize variance of the principal components\n",
    "fig, axes = px.plot_utils.plotScree(h5_s, title='Variance')"
   ]
  },
  {
   "cell_type": "markdown",
   "metadata": {},
   "source": [
    "#### U (Eigenvalues or loading maps):\n",
    "The plot below shows the spatial distribution of each SVD component"
   ]
  },
  {
   "cell_type": "code",
   "execution_count": null,
   "metadata": {
    "scrolled": false
   },
   "outputs": [],
   "source": [
    "# Visualize the eigenvalues or loading maps from SVD:\n",
    "loadings = np.reshape(h5_u[:, :num_comps], (num_rows, num_cols, -1))\n",
    "fig, axes = px.plot_utils.plot_map_stack(loadings, num_comps=num_comps, heading='Eigenvalues',\n",
    "                                         cmap=px.plot_utils.cmap_jet_white_center())"
   ]
  },
  {
   "cell_type": "markdown",
   "metadata": {},
   "source": [
    "#### V (Eigenvectors)\n",
    "The V dataset contains the eigenvectors for each component"
   ]
  },
  {
   "cell_type": "code",
   "execution_count": null,
   "metadata": {
    "scrolled": false
   },
   "outputs": [],
   "source": [
    "# Visualize the eigenvectors from SVD:\n",
    "eigenvectors = np.reshape(h5_v[:num_comps], (-1, num_sensor_rows, num_sensor_cols))\n",
    "eigenvectors = np.transpose(eigenvectors, (1, 2, 0))\n",
    "fig, axes = px.plot_utils.plot_map_stack(eigenvectors, num_comps=num_comps, heading='Eigenvectors',\n",
    "                                         cmap=px.plot_utils.cmap_jet_white_center())"
   ]
  },
  {
   "cell_type": "markdown",
   "metadata": {},
   "source": [
    "## Clustering\n",
    "Clustering divides data into k clusters such that the variance within each cluster is minimized. \n",
    "\n",
    "In principle, clustering can be perfomed on any dataset that has some spectral values (eg. - ronchgirams in the case of the raw dataset or an array of values for each SVD component) for each position. However, the computation time increases with the size of the dataset.\n",
    "\n",
    "Here, we will be performing k-means clustering on the U matrix from SVD. \n",
    "We want a large enough number of clusters so that K-means identifies fine nuances in the data. At the same time, we want to minimize computational time by reducing the number of clusters. We recommend 32 clusters."
   ]
  },
  {
   "cell_type": "code",
   "execution_count": null,
   "metadata": {},
   "outputs": [],
   "source": [
    "# Attempt to find any previous computation\n",
    "h5_kmeans_group = px.hdf_utils.findH5group(h5_u, 'Cluster')\n",
    "if len(h5_kmeans_group) == 0:\n",
    "    print('No k-Means computation found. Doing K-Means now')\n",
    "    num_clusters = 32\n",
    "    num_comps_for_clustering = 128\n",
    "    estimator = px.Cluster(h5_u, 'KMeans', num_comps=num_comps_for_clustering, n_clusters=num_clusters)\n",
    "    h5_kmeans_group = estimator.do_cluster()\n",
    "else:\n",
    "    print('Taking existing results of previous K-Means computation')\n",
    "    h5_kmeans_group = h5_kmeans_group[-1]\n",
    "    \n",
    "h5_labels = h5_kmeans_group['Labels']\n",
    "h5_centroids = h5_kmeans_group['Mean_Response']\n",
    "\n",
    "# In case we take existing results, we need to get these parameters\n",
    "num_clusters = h5_centroids.shape[0]\n",
    "num_comps_for_clustering = h5_centroids.shape[1]"
   ]
  },
  {
   "cell_type": "markdown",
   "metadata": {},
   "source": [
    "#### Visualize k-means results"
   ]
  },
  {
   "cell_type": "code",
   "execution_count": null,
   "metadata": {},
   "outputs": [],
   "source": [
    "label_mat = np.reshape(h5_labels, (num_rows, num_cols))\n",
    "fig, axis = plt.subplots(figsize=(7,7))\n",
    "axis.imshow(label_mat, cmap=px.plot_utils.cmap_jet_white_center())\n",
    "axis.set_title('k-Means Cluster labels');"
   ]
  },
  {
   "cell_type": "markdown",
   "metadata": {},
   "source": [
    "#### Visualize the hierarchical clustering\n",
    "The vertical length of the branches indicates the relative separation between neighboring clusters."
   ]
  },
  {
   "cell_type": "code",
   "execution_count": null,
   "metadata": {},
   "outputs": [],
   "source": [
    "e_vals = np.reshape(h5_u[:, :num_comps_for_clustering], \n",
    "                    (num_rows, num_cols, -1))\n",
    "fig = px.plot_utils.plot_cluster_dendrogram(label_mat, e_vals, \n",
    "                                            num_comps_for_clustering, \n",
    "                                            num_clusters, \n",
    "                                            last=num_clusters);"
   ]
  },
  {
   "cell_type": "markdown",
   "metadata": {},
   "source": [
    "### Save and close\n",
    "* Save the .h5 file that we are working on by closing it. <br>\n",
    "* Also, consider exporting this notebook as a notebook or an html file. <br> To do this, go to File >> Download as >> HTML\n",
    "* Finally consider saving this notebook if necessary"
   ]
  },
  {
   "cell_type": "code",
   "execution_count": null,
   "metadata": {},
   "outputs": [],
   "source": [
    "h5_file.close()"
   ]
  },
  {
   "cell_type": "code",
   "execution_count": null,
   "metadata": {},
   "outputs": [],
   "source": []
  }
 ],
 "metadata": {
  "anaconda-cloud": {},
  "kernelspec": {
   "display_name": "Python 2",
   "language": "python",
   "name": "python2"
  },
  "language_info": {
   "codemirror_mode": {
    "name": "ipython",
    "version": 3
   },
   "file_extension": ".py",
   "mimetype": "text/x-python",
   "name": "python",
   "nbconvert_exporter": "python",
   "pygments_lexer": "ipython3",
   "version": "3.5.2"
  },
  "widgets": {
   "state": {
    "74a037e0ed7f4854a0c8e337ac2d6798": {
     "views": [
      {
       "cell_index": 10
      }
     ]
    }
   },
   "version": "1.2.0"
  }
 },
 "nbformat": 4,
 "nbformat_minor": 1
}
