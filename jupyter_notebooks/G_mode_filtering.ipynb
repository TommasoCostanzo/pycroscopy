{
 "cells": [
  {
   "cell_type": "markdown",
   "metadata": {},
   "source": [
    "# G-Mode filtering and inspection using pycroscopy\n",
    "### Suhas Somnath and Stephen Jesse\n",
    "The Center for Nanophase Materials Science and The Institute for Functional Imaging for Materials <br>\n",
    "Oak Ridge National Laboratory<br>\n",
    "5/05/2017"
   ]
  },
  {
   "cell_type": "markdown",
   "metadata": {},
   "source": [
    "## Configure the notebook"
   ]
  },
  {
   "cell_type": "code",
   "execution_count": null,
   "metadata": {
    "collapsed": true
   },
   "outputs": [],
   "source": [
    "# Ensure python 3 compatibility\n",
    "from __future__ import division, print_function, absolute_import, unicode_literals\n",
    "\n",
    "# Import necessary libraries:\n",
    "# General utilities:\n",
    "from os import path\n",
    "\n",
    "# Computation:\n",
    "import numpy as np\n",
    "import h5py\n",
    "\n",
    "# Visualization:\n",
    "import matplotlib.pyplot as plt\n",
    "\n",
    "# Finally, pycroscopy itself\n",
    "import pycroscopy as px\n",
    "\n",
    "# set up notebook to show plots within the notebook\n",
    "% matplotlib inline\n",
    "\n",
    "save_plots = False"
   ]
  },
  {
   "cell_type": "markdown",
   "metadata": {},
   "source": [
    "## Make the data pycroscopy compatible\n",
    "Converting the raw data into a pycroscopy compatible hierarchical data format (HDF or .h5) file gives you access to the fast fitting algorithms and powerful analysis functions within pycroscopy\n",
    "\n",
    "#### H5 files:\n",
    "* are like smart containers that can store matrices with data, folders to organize these datasets, images, metadata like experimental parameters, links or shortcuts to datasets, etc.\n",
    "* are readily compatible with high-performance computing facilities\n",
    "* scale very efficiently from few kilobytes to several terabytes\n",
    "* can be read and modified using any language including Python, Matlab, C/C++, Java, Fortran, Igor Pro, etc.\n",
    "\n",
    "#### You can load either of the following:\n",
    "* Any .mat or .txt parameter file from the original experiment\n",
    "* A .h5 file generated from the raw data using pycroscopy - skips translation\n",
    "\n",
    "You can select desired file type by choosing the second option in the pull down menu on the bottom right of the file window"
   ]
  },
  {
   "cell_type": "code",
   "execution_count": null,
   "metadata": {},
   "outputs": [],
   "source": [
    "input_file_path = px.io_utils.uiGetFile(caption='Select translated .h5 file or raw experiment data',\n",
    "                                        file_filter='Parameters for raw G-Line data (*.txt);; \\\n",
    "                                        Translated file (*.h5)')\n",
    "folder_path, _ = path.split(input_file_path)\n",
    "\n",
    "if input_file_path.endswith('.txt'):\n",
    "    print('Translating raw data to h5. Please wait')\n",
    "    tran = px.GLineTranslator()\n",
    "    h5_path = tran.translate(input_file_path)\n",
    "else:\n",
    "    h5_path = input_file_path\n",
    "\n",
    "print('Working on:\\n' + h5_path)"
   ]
  },
  {
   "cell_type": "markdown",
   "metadata": {},
   "source": [
    "## Open the .h5 file and extract some basic parameters"
   ]
  },
  {
   "cell_type": "code",
   "execution_count": null,
   "metadata": {},
   "outputs": [],
   "source": [
    "hdf = px.ioHDF5(h5_path)\n",
    "h5_main = px.hdf_utils.getDataSet(hdf.file, 'Raw_Data')[-1]\n",
    "h5_spec_vals = px.hdf_utils.getAuxData(h5_main, auxDataName='Spectroscopic_Values')[0]"
   ]
  },
  {
   "cell_type": "markdown",
   "metadata": {},
   "source": [
    "##### Inspect the contents of this h5 data file\n",
    "The file contents are stored in a tree structure, just like files on a conventional computer.\n",
    "The data is stored as a 2D matrix (position, spectroscopic value) regardless of the dimensionality of the data. Thus, the positions will be arranged as row0-col0, row0-col1.... row0-colN, row1-col0.... and the data for each position is stored as it was chronologically collected  \n",
    "\n",
    "The main dataset is always accompanied by four ancillary datasets that explain the position and spectroscopic value of any given element in the dataset.\n",
    "\n",
    "Note that G-mode data is acquired line-by-line rather than pixel-by-pixel. "
   ]
  },
  {
   "cell_type": "code",
   "execution_count": null,
   "metadata": {},
   "outputs": [],
   "source": [
    "print('Datasets and datagroups within the file:\\n------------------------------------')\n",
    "px.io.hdf_utils.print_tree(hdf.file)\n",
    " \n",
    "print('\\nThe main dataset:\\n------------------------------------')\n",
    "print(h5_main)\n",
    "print('\\nThe ancillary datasets:\\n------------------------------------')\n",
    "print(hdf.file['/Measurement_000/Channel_000/Position_Indices'])\n",
    "print(hdf.file['/Measurement_000/Channel_000/Position_Values'])\n",
    "print(hdf.file['/Measurement_000/Channel_000/Spectroscopic_Indices'])\n",
    "print(hdf.file['/Measurement_000/Channel_000/Spectroscopic_Values'])\n",
    "\n",
    "print('\\nMetadata or attributes in a datagroup\\n------------------------------------')\n",
    "for key in hdf.file['/Measurement_000'].attrs:\n",
    "    print('{} : {}'.format(key, hdf.file['/Measurement_000'].attrs[key]))"
   ]
  },
  {
   "cell_type": "markdown",
   "metadata": {},
   "source": [
    "## Extract necessary parameters:"
   ]
  },
  {
   "cell_type": "code",
   "execution_count": null,
   "metadata": {
    "collapsed": true
   },
   "outputs": [],
   "source": [
    "parms_dict = h5_main.parent.parent.attrs\n",
    "\n",
    "samp_rate = parms_dict['IO_rate_[Hz]']\n",
    "ex_freq = parms_dict['BE_center_frequency_[Hz]']\n",
    "\n",
    "pixel_ex_wfm = h5_spec_vals[0, :int(h5_spec_vals.shape[1]/parms_dict['grid_num_cols'])]\n",
    "\n",
    "pts_per_pix = pixel_ex_wfm.size\n",
    "pts_per_line = h5_main.shape[1]"
   ]
  },
  {
   "cell_type": "markdown",
   "metadata": {},
   "source": [
    "## Inspect the raw data:"
   ]
  },
  {
   "cell_type": "code",
   "execution_count": null,
   "metadata": {},
   "outputs": [],
   "source": [
    "row_ind = 40\n",
    "raw_row = h5_main[row_ind].reshape(-1, pts_per_pix)\n",
    "\n",
    "fig, axes = px.plot_utils.plot_loops(pixel_ex_wfm, raw_row, x_label='Bias (V)', title='Raw Measurement',\n",
    "                                     plots_on_side=4, y_label='Deflection (a.u.)',\n",
    "                                     subtitles='Row: ' + str(row_ind) + ' Col:')"
   ]
  },
  {
   "cell_type": "markdown",
   "metadata": {},
   "source": [
    "## Visualizing information in Fourier space\n",
    "Visualizing in the fourier space provides information about the noise floor, frequencies which are noise dominant or signal dominant, etc.\n",
    "\n",
    "This visualization will guide the design of signal filters to remove the noise"
   ]
  },
  {
   "cell_type": "code",
   "execution_count": null,
   "metadata": {},
   "outputs": [],
   "source": [
    "# Preparing the frequency axis:\n",
    "w_vec = 1E-3*np.linspace(-0.5*samp_rate, 0.5*samp_rate - samp_rate/pts_per_line, pts_per_line)\n",
    "\n",
    "row_ind = 40\n",
    "F_resp = np.fft.fftshift(np.fft.fft(h5_main[row_ind]))\n",
    "fig, ax = plt.subplots(figsize=(12, 7))\n",
    "ax.axvline(x=1E-3*ex_freq, color='r', linewidth=2, label='Excitation')\n",
    "ax.plot(w_vec[int(0.5*len(w_vec)):], np.log10(np.abs(F_resp[int(0.5*len(w_vec)):])), label='Response')\n",
    "ax.set_xlabel('Frequency (kHz)', fontsize=16)\n",
    "ax.set_ylabel('Amplitude (a.u.)', fontsize=16)\n",
    "ax.legend(fontsize=14)\n",
    "ax.set_xscale('log')\n",
    "ax.set_xlim(ex_freq*1E-4, samp_rate*0.5E-3)\n",
    "ax.set_title('Noise Spectrum for row ' + str(row_ind), fontsize=16)\n",
    "px.plot_utils.set_tick_font_size(ax, 14)\n",
    "if save_plots:\n",
    "    fig.savefig(os.path.join(other_figures_folder, \n",
    "                             'noise_spectrum_line_' + str(row_ind) +'.png'), \n",
    "                format='png', dpi=150);"
   ]
  },
  {
   "cell_type": "markdown",
   "metadata": {},
   "source": [
    "## Try different FFT filters on the data\n",
    "\n",
    "Good combinations for frequency filters are:\n",
    "* Just a HarmonicPassFilter\n",
    "* LowPassFilter + NoiseBandFilter\n",
    "\n",
    "It is always a good idea to combine these frequency filters with noise thresholding. Try setting noise tolerance values of 1E-6 to 1E-3/"
   ]
  },
  {
   "cell_type": "code",
   "execution_count": null,
   "metadata": {},
   "outputs": [],
   "source": [
    "hpf = px.processing.fft.HarmonicPassFilter(pts_per_line, samp_rate, ex_freq, 1E+3, 10)\n",
    "lpf = px.processing.fft.LowPassFilter(pts_per_line, samp_rate, 110E+3)\n",
    "nbf = px.processing.fft.NoiseBandFilter(pts_per_line, samp_rate, [0], [17E+3])\n",
    "\n",
    "freq_filts = [hpf]\n",
    "noise_tolerance = 1E-4\n",
    "\n",
    "# Test filter on a single line:\n",
    "row_ind = 40\n",
    "filt_line, fig_filt, axes_filt = px.processing.gmode_utils.test_filter(h5_main[row_ind], \n",
    "                                                                       frequency_filters=freq_filts, \n",
    "                                                                       noise_threshold=noise_tolerance, \n",
    "                                                                       show_plots=True)\n",
    "if save_plots:\n",
    "    fig_filt.savefig(path.join(folder_path, 'FFT_filter_on_line_{}.png'.format(row_ind)), format='png', dpi=300)\n",
    "\n",
    "filt_row = filt_line.reshape(-1, pixel_ex_wfm.size)\n",
    "# raw_row = h5_main[row_ind].reshape(-1, pts_per_pix)\n",
    "fig, axes = px.plot_utils.plot_loops(pixel_ex_wfm, filt_row, x_label='Bias (V)', title='FFT Filtering',\n",
    "                                     plots_on_side=4, y_label='Deflection (a.u.)',\n",
    "                                     subtitles='Row: ' + str(row_ind) + ' Col:')\n",
    "if save_plots:\n",
    "    fig.savefig(path.join(folder_path, 'FFT_filtered_loops_on_line_{}.png'.format(row_ind)), format='png', dpi=300)"
   ]
  },
  {
   "cell_type": "markdown",
   "metadata": {},
   "source": [
    "## Apply selected filter to entire dataset"
   ]
  },
  {
   "cell_type": "code",
   "execution_count": null,
   "metadata": {},
   "outputs": [],
   "source": [
    "filter_parms = dict()\n",
    "if freq_filts is not None:\n",
    "    for filter in freq_filts:\n",
    "        filter_parms.update(filter.get_parms())\n",
    "if noise_tolerance is not None:\n",
    "    filter_parms['noise_threshold'] = noise_tolerance\n",
    "h5_filt_grp = px.hdf_utils.check_for_old(h5_main, 'FFT_Filtering', new_parms=filter_parms)\n",
    "\n",
    "if h5_filt_grp is None:\n",
    "    sig_filt = px.processing.SignalFilter(h5_main, frequency_filters=freq_filts, noise_threshold=noise_tolerance,\n",
    "                                          write_filtered=True, write_condensed=False, num_pix=1, verbose=True)\n",
    "    h5_filt_grp = sig_filt.compute()\n",
    "else:\n",
    "    print('Taking previously computed results')\n",
    "\n",
    "h5_filt = h5_filt_grp['Filtered_Data']"
   ]
  },
  {
   "cell_type": "code",
   "execution_count": null,
   "metadata": {},
   "outputs": [],
   "source": [
    "# Test to make sure the filter gave the same results\n",
    "filt_row = h5_filt[row_ind].reshape(-1, pixel_ex_wfm.size)\n",
    "fig, axes = px.plot_utils.plot_loops(pixel_ex_wfm, filt_row, x_label='Bias (V)', title='FFT Filtering',\n",
    "                                     plots_on_side=4, y_label='Deflection (a.u.)',\n",
    "                                     subtitles='Row: ' + str(row_ind) + ' Col:')"
   ]
  },
  {
   "cell_type": "markdown",
   "metadata": {},
   "source": [
    "## Now break up the filtered lines into \"pixels\"\n",
    "Also visualize loops from different pixels"
   ]
  },
  {
   "cell_type": "code",
   "execution_count": null,
   "metadata": {
    "collapsed": true
   },
   "outputs": [],
   "source": [
    "# h5_resh = h5_filt_grp['Filtered_Data-Reshape_000/Reshaped_Data']\n",
    "h5_resh = px.processing.gmode_utils.reshape_from_lines_to_pixels(h5_filt, pixel_ex_wfm.size, 1)\n",
    "fig, axes = px.plot_utils.plot_loops(pixel_ex_wfm, h5_resh, x_label='Bias (V)', title='FFT Filtering',\n",
    "                                     plots_on_side=5, y_label='Deflection (a.u.)')\n",
    "# fig.savefig(path.join(folder_path, 'FFT_filtered_loops_on_line_{}.png'.format(row_ind)), format='png', dpi=300)"
   ]
  },
  {
   "cell_type": "code",
   "execution_count": null,
   "metadata": {
    "collapsed": true
   },
   "outputs": [],
   "source": [
    "hdf.close()"
   ]
  },
  {
   "cell_type": "code",
   "execution_count": null,
   "metadata": {
    "collapsed": true
   },
   "outputs": [],
   "source": []
  }
 ],
 "metadata": {
  "anaconda-cloud": {},
  "kernelspec": {
   "display_name": "Python [default]",
   "language": "python",
   "name": "python3"
  },
  "language_info": {
   "codemirror_mode": {
    "name": "ipython",
    "version": 3
   },
   "file_extension": ".py",
   "mimetype": "text/x-python",
   "name": "python",
   "nbconvert_exporter": "python",
   "pygments_lexer": "ipython3",
   "version": "3.5.2"
  }
 },
 "nbformat": 4,
 "nbformat_minor": 1
}
